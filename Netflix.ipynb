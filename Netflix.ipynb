{
 "cells": [
  {
   "cell_type": "code",
   "execution_count": 1,
   "id": "8dcf44cd",
   "metadata": {},
   "outputs": [],
   "source": [
    "import pandas as pd"
   ]
  },
  {
   "cell_type": "code",
   "execution_count": 2,
   "id": "17c13942",
   "metadata": {},
   "outputs": [],
   "source": [
    "import matplotlib.pyplot as plt"
   ]
  },
  {
   "cell_type": "code",
   "execution_count": 3,
   "id": "3eae9904",
   "metadata": {},
   "outputs": [],
   "source": [
    "import seaborn as sns"
   ]
  },
  {
   "cell_type": "code",
   "execution_count": 4,
   "id": "893384ba",
   "metadata": {},
   "outputs": [],
   "source": [
    "filepath = \"C:\\\\Users\\\\abdelilah\\\\Desktop\\\\Python Projects\\\\Netflix\\\\\""
   ]
  },
  {
   "cell_type": "code",
   "execution_count": 5,
   "id": "1f63430a",
   "metadata": {},
   "outputs": [],
   "source": [
    "ntfx_df = pd.read_csv(filepath + \"Netflix Dataset.csv\", delimiter = \",\")"
   ]
  },
  {
   "cell_type": "code",
   "execution_count": 6,
   "id": "09e18962",
   "metadata": {
    "scrolled": true
   },
   "outputs": [
    {
     "data": {
      "text/html": [
       "<div>\n",
       "<style scoped>\n",
       "    .dataframe tbody tr th:only-of-type {\n",
       "        vertical-align: middle;\n",
       "    }\n",
       "\n",
       "    .dataframe tbody tr th {\n",
       "        vertical-align: top;\n",
       "    }\n",
       "\n",
       "    .dataframe thead th {\n",
       "        text-align: right;\n",
       "    }\n",
       "</style>\n",
       "<table border=\"1\" class=\"dataframe\">\n",
       "  <thead>\n",
       "    <tr style=\"text-align: right;\">\n",
       "      <th></th>\n",
       "      <th>Show_Id</th>\n",
       "      <th>Category</th>\n",
       "      <th>Title</th>\n",
       "      <th>Director</th>\n",
       "      <th>Cast</th>\n",
       "      <th>Country</th>\n",
       "      <th>Release_Date</th>\n",
       "      <th>Rating</th>\n",
       "      <th>Duration</th>\n",
       "      <th>Type</th>\n",
       "      <th>Description</th>\n",
       "    </tr>\n",
       "  </thead>\n",
       "  <tbody>\n",
       "    <tr>\n",
       "      <th>0</th>\n",
       "      <td>s1</td>\n",
       "      <td>TV Show</td>\n",
       "      <td>3%</td>\n",
       "      <td>NaN</td>\n",
       "      <td>João Miguel, Bianca Comparato, Michel Gomes, R...</td>\n",
       "      <td>Brazil</td>\n",
       "      <td>August 14, 2020</td>\n",
       "      <td>TV-MA</td>\n",
       "      <td>4 Seasons</td>\n",
       "      <td>International TV Shows, TV Dramas, TV Sci-Fi &amp;...</td>\n",
       "      <td>In a future where the elite inhabit an island ...</td>\n",
       "    </tr>\n",
       "    <tr>\n",
       "      <th>1</th>\n",
       "      <td>s2</td>\n",
       "      <td>Movie</td>\n",
       "      <td>07:19</td>\n",
       "      <td>Jorge Michel Grau</td>\n",
       "      <td>Demián Bichir, Héctor Bonilla, Oscar Serrano, ...</td>\n",
       "      <td>Mexico</td>\n",
       "      <td>December 23, 2016</td>\n",
       "      <td>TV-MA</td>\n",
       "      <td>93 min</td>\n",
       "      <td>Dramas, International Movies</td>\n",
       "      <td>After a devastating earthquake hits Mexico Cit...</td>\n",
       "    </tr>\n",
       "    <tr>\n",
       "      <th>2</th>\n",
       "      <td>s3</td>\n",
       "      <td>Movie</td>\n",
       "      <td>23:59</td>\n",
       "      <td>Gilbert Chan</td>\n",
       "      <td>Tedd Chan, Stella Chung, Henley Hii, Lawrence ...</td>\n",
       "      <td>Singapore</td>\n",
       "      <td>December 20, 2018</td>\n",
       "      <td>R</td>\n",
       "      <td>78 min</td>\n",
       "      <td>Horror Movies, International Movies</td>\n",
       "      <td>When an army recruit is found dead, his fellow...</td>\n",
       "    </tr>\n",
       "    <tr>\n",
       "      <th>3</th>\n",
       "      <td>s4</td>\n",
       "      <td>Movie</td>\n",
       "      <td>9</td>\n",
       "      <td>Shane Acker</td>\n",
       "      <td>Elijah Wood, John C. Reilly, Jennifer Connelly...</td>\n",
       "      <td>United States</td>\n",
       "      <td>November 16, 2017</td>\n",
       "      <td>PG-13</td>\n",
       "      <td>80 min</td>\n",
       "      <td>Action &amp; Adventure, Independent Movies, Sci-Fi...</td>\n",
       "      <td>In a postapocalyptic world, rag-doll robots hi...</td>\n",
       "    </tr>\n",
       "    <tr>\n",
       "      <th>4</th>\n",
       "      <td>s5</td>\n",
       "      <td>Movie</td>\n",
       "      <td>21</td>\n",
       "      <td>Robert Luketic</td>\n",
       "      <td>Jim Sturgess, Kevin Spacey, Kate Bosworth, Aar...</td>\n",
       "      <td>United States</td>\n",
       "      <td>January 1, 2020</td>\n",
       "      <td>PG-13</td>\n",
       "      <td>123 min</td>\n",
       "      <td>Dramas</td>\n",
       "      <td>A brilliant group of students become card-coun...</td>\n",
       "    </tr>\n",
       "    <tr>\n",
       "      <th>...</th>\n",
       "      <td>...</td>\n",
       "      <td>...</td>\n",
       "      <td>...</td>\n",
       "      <td>...</td>\n",
       "      <td>...</td>\n",
       "      <td>...</td>\n",
       "      <td>...</td>\n",
       "      <td>...</td>\n",
       "      <td>...</td>\n",
       "      <td>...</td>\n",
       "      <td>...</td>\n",
       "    </tr>\n",
       "    <tr>\n",
       "      <th>7784</th>\n",
       "      <td>s7783</td>\n",
       "      <td>Movie</td>\n",
       "      <td>Zozo</td>\n",
       "      <td>Josef Fares</td>\n",
       "      <td>Imad Creidi, Antoinette Turk, Elias Gergi, Car...</td>\n",
       "      <td>Sweden, Czech Republic, United Kingdom, Denmar...</td>\n",
       "      <td>October 19, 2020</td>\n",
       "      <td>TV-MA</td>\n",
       "      <td>99 min</td>\n",
       "      <td>Dramas, International Movies</td>\n",
       "      <td>When Lebanon's Civil War deprives Zozo of his ...</td>\n",
       "    </tr>\n",
       "    <tr>\n",
       "      <th>7785</th>\n",
       "      <td>s7784</td>\n",
       "      <td>Movie</td>\n",
       "      <td>Zubaan</td>\n",
       "      <td>Mozez Singh</td>\n",
       "      <td>Vicky Kaushal, Sarah-Jane Dias, Raaghav Chanan...</td>\n",
       "      <td>India</td>\n",
       "      <td>March 2, 2019</td>\n",
       "      <td>TV-14</td>\n",
       "      <td>111 min</td>\n",
       "      <td>Dramas, International Movies, Music &amp; Musicals</td>\n",
       "      <td>A scrappy but poor boy worms his way into a ty...</td>\n",
       "    </tr>\n",
       "    <tr>\n",
       "      <th>7786</th>\n",
       "      <td>s7785</td>\n",
       "      <td>Movie</td>\n",
       "      <td>Zulu Man in Japan</td>\n",
       "      <td>NaN</td>\n",
       "      <td>Nasty C</td>\n",
       "      <td>NaN</td>\n",
       "      <td>September 25, 2020</td>\n",
       "      <td>TV-MA</td>\n",
       "      <td>44 min</td>\n",
       "      <td>Documentaries, International Movies, Music &amp; M...</td>\n",
       "      <td>In this documentary, South African rapper Nast...</td>\n",
       "    </tr>\n",
       "    <tr>\n",
       "      <th>7787</th>\n",
       "      <td>s7786</td>\n",
       "      <td>TV Show</td>\n",
       "      <td>Zumbo's Just Desserts</td>\n",
       "      <td>NaN</td>\n",
       "      <td>Adriano Zumbo, Rachel Khoo</td>\n",
       "      <td>Australia</td>\n",
       "      <td>October 31, 2020</td>\n",
       "      <td>TV-PG</td>\n",
       "      <td>1 Season</td>\n",
       "      <td>International TV Shows, Reality TV</td>\n",
       "      <td>Dessert wizard Adriano Zumbo looks for the nex...</td>\n",
       "    </tr>\n",
       "    <tr>\n",
       "      <th>7788</th>\n",
       "      <td>s7787</td>\n",
       "      <td>Movie</td>\n",
       "      <td>ZZ TOP: THAT LITTLE OL' BAND FROM TEXAS</td>\n",
       "      <td>Sam Dunn</td>\n",
       "      <td>NaN</td>\n",
       "      <td>United Kingdom, Canada, United States</td>\n",
       "      <td>March 1, 2020</td>\n",
       "      <td>TV-MA</td>\n",
       "      <td>90 min</td>\n",
       "      <td>Documentaries, Music &amp; Musicals</td>\n",
       "      <td>This documentary delves into the mystique behi...</td>\n",
       "    </tr>\n",
       "  </tbody>\n",
       "</table>\n",
       "<p>7789 rows × 11 columns</p>\n",
       "</div>"
      ],
      "text/plain": [
       "     Show_Id Category                                    Title  \\\n",
       "0         s1  TV Show                                       3%   \n",
       "1         s2    Movie                                    07:19   \n",
       "2         s3    Movie                                    23:59   \n",
       "3         s4    Movie                                        9   \n",
       "4         s5    Movie                                       21   \n",
       "...      ...      ...                                      ...   \n",
       "7784   s7783    Movie                                     Zozo   \n",
       "7785   s7784    Movie                                   Zubaan   \n",
       "7786   s7785    Movie                        Zulu Man in Japan   \n",
       "7787   s7786  TV Show                    Zumbo's Just Desserts   \n",
       "7788   s7787    Movie  ZZ TOP: THAT LITTLE OL' BAND FROM TEXAS   \n",
       "\n",
       "               Director                                               Cast  \\\n",
       "0                   NaN  João Miguel, Bianca Comparato, Michel Gomes, R...   \n",
       "1     Jorge Michel Grau  Demián Bichir, Héctor Bonilla, Oscar Serrano, ...   \n",
       "2          Gilbert Chan  Tedd Chan, Stella Chung, Henley Hii, Lawrence ...   \n",
       "3           Shane Acker  Elijah Wood, John C. Reilly, Jennifer Connelly...   \n",
       "4        Robert Luketic  Jim Sturgess, Kevin Spacey, Kate Bosworth, Aar...   \n",
       "...                 ...                                                ...   \n",
       "7784        Josef Fares  Imad Creidi, Antoinette Turk, Elias Gergi, Car...   \n",
       "7785        Mozez Singh  Vicky Kaushal, Sarah-Jane Dias, Raaghav Chanan...   \n",
       "7786                NaN                                            Nasty C   \n",
       "7787                NaN                         Adriano Zumbo, Rachel Khoo   \n",
       "7788           Sam Dunn                                                NaN   \n",
       "\n",
       "                                                Country        Release_Date  \\\n",
       "0                                                Brazil     August 14, 2020   \n",
       "1                                                Mexico   December 23, 2016   \n",
       "2                                             Singapore   December 20, 2018   \n",
       "3                                         United States   November 16, 2017   \n",
       "4                                         United States     January 1, 2020   \n",
       "...                                                 ...                 ...   \n",
       "7784  Sweden, Czech Republic, United Kingdom, Denmar...    October 19, 2020   \n",
       "7785                                              India       March 2, 2019   \n",
       "7786                                                NaN  September 25, 2020   \n",
       "7787                                          Australia    October 31, 2020   \n",
       "7788              United Kingdom, Canada, United States       March 1, 2020   \n",
       "\n",
       "     Rating   Duration                                               Type  \\\n",
       "0     TV-MA  4 Seasons  International TV Shows, TV Dramas, TV Sci-Fi &...   \n",
       "1     TV-MA     93 min                       Dramas, International Movies   \n",
       "2         R     78 min                Horror Movies, International Movies   \n",
       "3     PG-13     80 min  Action & Adventure, Independent Movies, Sci-Fi...   \n",
       "4     PG-13    123 min                                             Dramas   \n",
       "...     ...        ...                                                ...   \n",
       "7784  TV-MA     99 min                       Dramas, International Movies   \n",
       "7785  TV-14    111 min     Dramas, International Movies, Music & Musicals   \n",
       "7786  TV-MA     44 min  Documentaries, International Movies, Music & M...   \n",
       "7787  TV-PG   1 Season                 International TV Shows, Reality TV   \n",
       "7788  TV-MA     90 min                    Documentaries, Music & Musicals   \n",
       "\n",
       "                                            Description  \n",
       "0     In a future where the elite inhabit an island ...  \n",
       "1     After a devastating earthquake hits Mexico Cit...  \n",
       "2     When an army recruit is found dead, his fellow...  \n",
       "3     In a postapocalyptic world, rag-doll robots hi...  \n",
       "4     A brilliant group of students become card-coun...  \n",
       "...                                                 ...  \n",
       "7784  When Lebanon's Civil War deprives Zozo of his ...  \n",
       "7785  A scrappy but poor boy worms his way into a ty...  \n",
       "7786  In this documentary, South African rapper Nast...  \n",
       "7787  Dessert wizard Adriano Zumbo looks for the nex...  \n",
       "7788  This documentary delves into the mystique behi...  \n",
       "\n",
       "[7789 rows x 11 columns]"
      ]
     },
     "execution_count": 6,
     "metadata": {},
     "output_type": "execute_result"
    }
   ],
   "source": [
    "ntfx_df"
   ]
  },
  {
   "cell_type": "code",
   "execution_count": 7,
   "id": "8e436fef",
   "metadata": {},
   "outputs": [
    {
     "name": "stdout",
     "output_type": "stream",
     "text": [
      "<class 'pandas.core.frame.DataFrame'>\n",
      "RangeIndex: 7789 entries, 0 to 7788\n",
      "Data columns (total 11 columns):\n",
      " #   Column        Non-Null Count  Dtype \n",
      "---  ------        --------------  ----- \n",
      " 0   Show_Id       7789 non-null   object\n",
      " 1   Category      7789 non-null   object\n",
      " 2   Title         7789 non-null   object\n",
      " 3   Director      5401 non-null   object\n",
      " 4   Cast          7071 non-null   object\n",
      " 5   Country       7282 non-null   object\n",
      " 6   Release_Date  7779 non-null   object\n",
      " 7   Rating        7782 non-null   object\n",
      " 8   Duration      7789 non-null   object\n",
      " 9   Type          7789 non-null   object\n",
      " 10  Description   7789 non-null   object\n",
      "dtypes: object(11)\n",
      "memory usage: 669.5+ KB\n"
     ]
    }
   ],
   "source": [
    "ntfx_df.info()"
   ]
  },
  {
   "cell_type": "markdown",
   "id": "a88b1aa0",
   "metadata": {},
   "source": [
    "**FIRST STEP:** Is there any Duplicate Record in this dataset ? If yes, then remove the duplicate records."
   ]
  },
  {
   "cell_type": "code",
   "execution_count": 8,
   "id": "5f41cf08",
   "metadata": {},
   "outputs": [],
   "source": [
    "duplics = ntfx_df[ntfx_df.duplicated()]"
   ]
  },
  {
   "cell_type": "code",
   "execution_count": 9,
   "id": "5fbf9766",
   "metadata": {},
   "outputs": [
    {
     "data": {
      "text/html": [
       "<div>\n",
       "<style scoped>\n",
       "    .dataframe tbody tr th:only-of-type {\n",
       "        vertical-align: middle;\n",
       "    }\n",
       "\n",
       "    .dataframe tbody tr th {\n",
       "        vertical-align: top;\n",
       "    }\n",
       "\n",
       "    .dataframe thead th {\n",
       "        text-align: right;\n",
       "    }\n",
       "</style>\n",
       "<table border=\"1\" class=\"dataframe\">\n",
       "  <thead>\n",
       "    <tr style=\"text-align: right;\">\n",
       "      <th></th>\n",
       "      <th>Show_Id</th>\n",
       "      <th>Category</th>\n",
       "      <th>Title</th>\n",
       "      <th>Director</th>\n",
       "      <th>Cast</th>\n",
       "      <th>Country</th>\n",
       "      <th>Release_Date</th>\n",
       "      <th>Rating</th>\n",
       "      <th>Duration</th>\n",
       "      <th>Type</th>\n",
       "      <th>Description</th>\n",
       "    </tr>\n",
       "  </thead>\n",
       "  <tbody>\n",
       "    <tr>\n",
       "      <th>6300</th>\n",
       "      <td>s684</td>\n",
       "      <td>Movie</td>\n",
       "      <td>Backfire</td>\n",
       "      <td>Dave Patten</td>\n",
       "      <td>Black Deniro, Byron \"Squally\" Vinson, Dominic ...</td>\n",
       "      <td>United States</td>\n",
       "      <td>April 5, 2019</td>\n",
       "      <td>TV-MA</td>\n",
       "      <td>97 min</td>\n",
       "      <td>Dramas, Independent Movies, Thrillers</td>\n",
       "      <td>When two would-be robbers accidentally kill a ...</td>\n",
       "    </tr>\n",
       "    <tr>\n",
       "      <th>6622</th>\n",
       "      <td>s6621</td>\n",
       "      <td>Movie</td>\n",
       "      <td>The Lost Okoroshi</td>\n",
       "      <td>Abba T. Makama</td>\n",
       "      <td>Seun Ajayi, Judith Audu, Tope Tedela, Ifu Enna...</td>\n",
       "      <td>Nigeria</td>\n",
       "      <td>September 4, 2020</td>\n",
       "      <td>TV-MA</td>\n",
       "      <td>94 min</td>\n",
       "      <td>Comedies, Dramas, Independent Movies</td>\n",
       "      <td>A disillusioned security guard transforms into...</td>\n",
       "    </tr>\n",
       "  </tbody>\n",
       "</table>\n",
       "</div>"
      ],
      "text/plain": [
       "     Show_Id Category              Title        Director  \\\n",
       "6300    s684    Movie           Backfire     Dave Patten   \n",
       "6622   s6621    Movie  The Lost Okoroshi  Abba T. Makama   \n",
       "\n",
       "                                                   Cast        Country  \\\n",
       "6300  Black Deniro, Byron \"Squally\" Vinson, Dominic ...  United States   \n",
       "6622  Seun Ajayi, Judith Audu, Tope Tedela, Ifu Enna...        Nigeria   \n",
       "\n",
       "           Release_Date Rating Duration  \\\n",
       "6300      April 5, 2019  TV-MA   97 min   \n",
       "6622  September 4, 2020  TV-MA   94 min   \n",
       "\n",
       "                                       Type  \\\n",
       "6300  Dramas, Independent Movies, Thrillers   \n",
       "6622   Comedies, Dramas, Independent Movies   \n",
       "\n",
       "                                            Description  \n",
       "6300  When two would-be robbers accidentally kill a ...  \n",
       "6622  A disillusioned security guard transforms into...  "
      ]
     },
     "execution_count": 9,
     "metadata": {},
     "output_type": "execute_result"
    }
   ],
   "source": [
    "duplics"
   ]
  },
  {
   "cell_type": "code",
   "execution_count": 10,
   "id": "02594733",
   "metadata": {},
   "outputs": [],
   "source": [
    "# I tried the duplicated() method to see if there's any duplicates but as it looks it prompted two rows that don't seem to be \n",
    "# the same, in fact the only thing they have in common is the \"Rating\", so i'd say there's no duplicates and move on"
   ]
  },
  {
   "cell_type": "markdown",
   "id": "858dc7f7",
   "metadata": {},
   "source": [
    "**SECOND STEP:** Is there any Null Value present in any column ? Show with Heat-map."
   ]
  },
  {
   "cell_type": "code",
   "execution_count": 11,
   "id": "c723fb19",
   "metadata": {},
   "outputs": [
    {
     "data": {
      "text/plain": [
       "<AxesSubplot:>"
      ]
     },
     "execution_count": 11,
     "metadata": {},
     "output_type": "execute_result"
    },
    {
     "data": {
      "image/png": "[encoded data removed]",
      "text/plain": [
       "<Figure size 432x432 with 2 Axes>"
      ]
     },
     "metadata": {
      "needs_background": "light"
     },
     "output_type": "display_data"
    }
   ],
   "source": [
    "plt.figure(figsize = (6, 6))\n",
    "sns.heatmap(ntfx_df.isnull())"
   ]
  },
  {
   "cell_type": "code",
   "execution_count": 12,
   "id": "9a11fa17",
   "metadata": {},
   "outputs": [],
   "source": [
    "# yeah it seems like there's a few missing values, specifically in the 3rd, 4th, 5th and 6th rows "
   ]
  },
  {
   "cell_type": "markdown",
   "id": "a52f3178",
   "metadata": {},
   "source": [
    "**First Task:** For 'House of Cards', what is the Show Id and Who is the Director of this show ?"
   ]
  },
  {
   "cell_type": "code",
   "execution_count": 13,
   "id": "bd1818e1",
   "metadata": {},
   "outputs": [
    {
     "name": "stdout",
     "output_type": "stream",
     "text": [
      "ID of the show is:  s2833\n",
      "Directors of the show are:  Robin Wright, David Fincher, Gerald McRaney, John David Coles, David Manson\n"
     ]
    }
   ],
   "source": [
    "print(\"ID of the show is: \",list(ntfx_df.loc[ntfx_df[\"Title\"].eq('House of Cards'), 'Show_Id'])[0])\n",
    "print(\"Directors of the show are: \",list(ntfx_df.loc[ntfx_df[\"Title\"].eq('House of Cards'), 'Director'])[0])"
   ]
  },
  {
   "cell_type": "markdown",
   "id": "e09ce780",
   "metadata": {},
   "source": [
    "**Second Task:** In which year the highest number of the TV Shows & Movies were released ? Show with Bar Graph."
   ]
  },
  {
   "cell_type": "code",
   "execution_count": 14,
   "id": "148c6c53",
   "metadata": {},
   "outputs": [],
   "source": [
    "ntfx_df[\"Release_Date\"] = pd.to_datetime(ntfx_df[\"Release_Date\"])"
   ]
  },
  {
   "cell_type": "code",
   "execution_count": 15,
   "id": "16d9f030",
   "metadata": {},
   "outputs": [
    {
     "data": {
      "text/plain": [
       "[2008.0,\n",
       " 2009.0,\n",
       " 2010.0,\n",
       " 2011.0,\n",
       " 2012.0,\n",
       " 2013.0,\n",
       " 2014.0,\n",
       " 2015.0,\n",
       " 2016.0,\n",
       " 2017.0,\n",
       " 2018.0,\n",
       " 2019.0,\n",
       " 2020.0,\n",
       " 2021.0]"
      ]
     },
     "execution_count": 15,
     "metadata": {},
     "output_type": "execute_result"
    }
   ],
   "source": [
    "sorted(pd.DatetimeIndex(ntfx_df[\"Release_Date\"]).year.value_counts().index)"
   ]
  },
  {
   "cell_type": "code",
   "execution_count": 16,
   "id": "4a5a92f9",
   "metadata": {},
   "outputs": [
    {
     "data": {
      "text/plain": [
       "Text(0, 0.5, 'Count of each Category')"
      ]
     },
     "execution_count": 16,
     "metadata": {},
     "output_type": "execute_result"
    },
    {
     "data": {
      "image/png": "[encoded data removed]",
      "text/plain": [
       "<Figure size 1080x504 with 1 Axes>"
      ]
     },
     "metadata": {
      "needs_background": "light"
     },
     "output_type": "display_data"
    }
   ],
   "source": [
    "plt.figure(figsize = (15, 7))\n",
    "sns.countplot(x = (pd.DatetimeIndex(ntfx_df[\"Release_Date\"]).year), \n",
    "              hue = ntfx_df[\"Category\"])\n",
    "plt.title(\"Production of Movies and TV Shows 2008-2021\", \n",
    "          fontdict = {'fontsize' : 12, \n",
    "                      'fontweight' : 'bold'})\n",
    "plt.xlabel(\"Years\", \n",
    "           fontdict = {'fontsize' : 9, \n",
    "                       'fontweight' : 'bold'})\n",
    "plt.ylabel(\"Count of each Category\", \n",
    "           fontdict = {'fontsize' : 9, \n",
    "                       'fontweight' : 'bold'})"
   ]
  },
  {
   "cell_type": "code",
   "execution_count": 17,
   "id": "4e9a80ef",
   "metadata": {},
   "outputs": [],
   "source": [
    "# So i'd say based on the graph the highest amount of movies and tv shows recorded was in 2019 "
   ]
  },
  {
   "cell_type": "markdown",
   "id": "1303f8a7",
   "metadata": {},
   "source": [
    "**Third Task:** How many Movies & TV Shows are in the dataset ? Show with Bar Graph."
   ]
  },
  {
   "cell_type": "code",
   "execution_count": 18,
   "id": "678d5729",
   "metadata": {},
   "outputs": [
    {
     "data": {
      "text/plain": [
       "Text(0, 0.5, 'Count of each Category')"
      ]
     },
     "execution_count": 18,
     "metadata": {},
     "output_type": "execute_result"
    },
    {
     "data": {
      "image/png": "[encoded data removed]",
      "text/plain": [
       "<Figure size 720x504 with 1 Axes>"
      ]
     },
     "metadata": {
      "needs_background": "light"
     },
     "output_type": "display_data"
    }
   ],
   "source": [
    "plt.figure(figsize = (10, 7))\n",
    "sns.countplot(x = ntfx_df[\"Category\"], \n",
    "              hue = ntfx_df[\"Category\"])\n",
    "plt.title(\"Movies and TV Shows\", \n",
    "          fontdict = {'fontsize' : 12, \n",
    "                      'fontweight' : 'bold'})\n",
    "plt.xlabel(\"Category\", \n",
    "           fontdict = {'fontsize' : 9, \n",
    "                       'fontweight' : 'bold'})\n",
    "plt.ylabel(\"Count of each Category\", \n",
    "           fontdict = {'fontsize' : 9, \n",
    "                       'fontweight' : 'bold'})"
   ]
  },
  {
   "cell_type": "code",
   "execution_count": 19,
   "id": "246665f8",
   "metadata": {},
   "outputs": [],
   "source": [
    "#next time i should learn how to add labels indicating how many are there in each category"
   ]
  },
  {
   "cell_type": "markdown",
   "id": "dd76a5b3",
   "metadata": {},
   "source": [
    "**Fourth Task:** Show all the Movies that were released in year 2000."
   ]
  },
  {
   "cell_type": "code",
   "execution_count": 20,
   "id": "b13e5793",
   "metadata": {},
   "outputs": [
    {
     "data": {
      "text/html": [
       "<div>\n",
       "<style scoped>\n",
       "    .dataframe tbody tr th:only-of-type {\n",
       "        vertical-align: middle;\n",
       "    }\n",
       "\n",
       "    .dataframe tbody tr th {\n",
       "        vertical-align: top;\n",
       "    }\n",
       "\n",
       "    .dataframe thead th {\n",
       "        text-align: right;\n",
       "    }\n",
       "</style>\n",
       "<table border=\"1\" class=\"dataframe\">\n",
       "  <thead>\n",
       "    <tr style=\"text-align: right;\">\n",
       "      <th></th>\n",
       "      <th>Show_Id</th>\n",
       "      <th>Category</th>\n",
       "      <th>Title</th>\n",
       "      <th>Director</th>\n",
       "      <th>Cast</th>\n",
       "      <th>Country</th>\n",
       "      <th>Release_Date</th>\n",
       "      <th>Rating</th>\n",
       "      <th>Duration</th>\n",
       "      <th>Type</th>\n",
       "      <th>Description</th>\n",
       "    </tr>\n",
       "  </thead>\n",
       "  <tbody>\n",
       "  </tbody>\n",
       "</table>\n",
       "</div>"
      ],
      "text/plain": [
       "Empty DataFrame\n",
       "Columns: [Show_Id, Category, Title, Director, Cast, Country, Release_Date, Rating, Duration, Type, Description]\n",
       "Index: []"
      ]
     },
     "execution_count": 20,
     "metadata": {},
     "output_type": "execute_result"
    }
   ],
   "source": [
    "ntfx_df[(ntfx_df[\"Category\"] == \"Movie\") & (pd.DatetimeIndex(ntfx_df[\"Release_Date\"]).year == 2000)]"
   ]
  },
  {
   "cell_type": "code",
   "execution_count": 21,
   "id": "7596dda0",
   "metadata": {},
   "outputs": [],
   "source": [
    "# this dataset doesn't have any data that goes back to 2000, the farthest one is from 2008, so i'll just bring data from 2010"
   ]
  },
  {
   "cell_type": "code",
   "execution_count": 22,
   "id": "5ec61a8f",
   "metadata": {},
   "outputs": [
    {
     "data": {
      "text/html": [
       "<div>\n",
       "<style scoped>\n",
       "    .dataframe tbody tr th:only-of-type {\n",
       "        vertical-align: middle;\n",
       "    }\n",
       "\n",
       "    .dataframe tbody tr th {\n",
       "        vertical-align: top;\n",
       "    }\n",
       "\n",
       "    .dataframe thead th {\n",
       "        text-align: right;\n",
       "    }\n",
       "</style>\n",
       "<table border=\"1\" class=\"dataframe\">\n",
       "  <thead>\n",
       "    <tr style=\"text-align: right;\">\n",
       "      <th></th>\n",
       "      <th>Show_Id</th>\n",
       "      <th>Category</th>\n",
       "      <th>Title</th>\n",
       "      <th>Director</th>\n",
       "      <th>Cast</th>\n",
       "      <th>Country</th>\n",
       "      <th>Release_Date</th>\n",
       "      <th>Rating</th>\n",
       "      <th>Duration</th>\n",
       "      <th>Type</th>\n",
       "      <th>Description</th>\n",
       "    </tr>\n",
       "  </thead>\n",
       "  <tbody>\n",
       "    <tr>\n",
       "      <th>3840</th>\n",
       "      <td>s3841</td>\n",
       "      <td>Movie</td>\n",
       "      <td>Mad Ron's Prevues from Hell</td>\n",
       "      <td>Jim Monaco</td>\n",
       "      <td>Nick Pawlow, Jordu Schell, Jay Kushwara, Micha...</td>\n",
       "      <td>United States</td>\n",
       "      <td>2010-11-01</td>\n",
       "      <td>NR</td>\n",
       "      <td>84 min</td>\n",
       "      <td>Cult Movies, Horror Movies</td>\n",
       "      <td>This collection cherry-picks trailers, forgott...</td>\n",
       "    </tr>\n",
       "  </tbody>\n",
       "</table>\n",
       "</div>"
      ],
      "text/plain": [
       "     Show_Id Category                        Title    Director  \\\n",
       "3840   s3841    Movie  Mad Ron's Prevues from Hell  Jim Monaco   \n",
       "\n",
       "                                                   Cast        Country  \\\n",
       "3840  Nick Pawlow, Jordu Schell, Jay Kushwara, Micha...  United States   \n",
       "\n",
       "     Release_Date Rating Duration                        Type  \\\n",
       "3840   2010-11-01     NR   84 min  Cult Movies, Horror Movies   \n",
       "\n",
       "                                            Description  \n",
       "3840  This collection cherry-picks trailers, forgott...  "
      ]
     },
     "execution_count": 22,
     "metadata": {},
     "output_type": "execute_result"
    }
   ],
   "source": [
    "ntfx_df[(ntfx_df[\"Category\"] == \"Movie\") & (pd.DatetimeIndex(ntfx_df[\"Release_Date\"]).year == 2010)]"
   ]
  },
  {
   "cell_type": "markdown",
   "id": "e0a99489",
   "metadata": {},
   "source": [
    "**Fifth Task:** Show only the Titles of all TV Shows that were released in India only."
   ]
  },
  {
   "cell_type": "code",
   "execution_count": 23,
   "id": "4d30a339",
   "metadata": {},
   "outputs": [
    {
     "data": {
      "text/html": [
       "<div>\n",
       "<style scoped>\n",
       "    .dataframe tbody tr th:only-of-type {\n",
       "        vertical-align: middle;\n",
       "    }\n",
       "\n",
       "    .dataframe tbody tr th {\n",
       "        vertical-align: top;\n",
       "    }\n",
       "\n",
       "    .dataframe thead th {\n",
       "        text-align: right;\n",
       "    }\n",
       "</style>\n",
       "<table border=\"1\" class=\"dataframe\">\n",
       "  <thead>\n",
       "    <tr style=\"text-align: right;\">\n",
       "      <th></th>\n",
       "      <th>Show_Id</th>\n",
       "      <th>Category</th>\n",
       "      <th>Title</th>\n",
       "      <th>Director</th>\n",
       "      <th>Cast</th>\n",
       "      <th>Country</th>\n",
       "      <th>Release_Date</th>\n",
       "      <th>Rating</th>\n",
       "      <th>Duration</th>\n",
       "      <th>Type</th>\n",
       "      <th>Description</th>\n",
       "    </tr>\n",
       "  </thead>\n",
       "  <tbody>\n",
       "    <tr>\n",
       "      <th>86</th>\n",
       "      <td>s87</td>\n",
       "      <td>TV Show</td>\n",
       "      <td>21 Sarfarosh: Saragarhi 1897</td>\n",
       "      <td>NaN</td>\n",
       "      <td>Luke Kenny, Mohit Raina, Mukul Dev</td>\n",
       "      <td>India</td>\n",
       "      <td>2018-12-01</td>\n",
       "      <td>TV-14</td>\n",
       "      <td>1 Season</td>\n",
       "      <td>International TV Shows, TV Dramas</td>\n",
       "      <td>In one of history's greatest last stands, a ba...</td>\n",
       "    </tr>\n",
       "    <tr>\n",
       "      <th>132</th>\n",
       "      <td>s133</td>\n",
       "      <td>TV Show</td>\n",
       "      <td>7 (Seven)</td>\n",
       "      <td>Nizar Shafi</td>\n",
       "      <td>Rahman, Havish, Regina Cassandra, Nandita Swet...</td>\n",
       "      <td>India</td>\n",
       "      <td>2019-07-30</td>\n",
       "      <td>TV-14</td>\n",
       "      <td>1 Season</td>\n",
       "      <td>TV Shows</td>\n",
       "      <td>Multiple women report their husbands as missin...</td>\n",
       "    </tr>\n",
       "    <tr>\n",
       "      <th>340</th>\n",
       "      <td>s341</td>\n",
       "      <td>TV Show</td>\n",
       "      <td>Agent Raghav</td>\n",
       "      <td>NaN</td>\n",
       "      <td>Sharad Kelkar, Aahana Kumra, Mahesh Manjrekar,...</td>\n",
       "      <td>India</td>\n",
       "      <td>2017-04-15</td>\n",
       "      <td>TV-14</td>\n",
       "      <td>1 Season</td>\n",
       "      <td>Crime TV Shows, International TV Shows, TV Act...</td>\n",
       "      <td>A mix of brilliance, erudition and skill enabl...</td>\n",
       "    </tr>\n",
       "    <tr>\n",
       "      <th>364</th>\n",
       "      <td>s365</td>\n",
       "      <td>TV Show</td>\n",
       "      <td>Akbar Birbal</td>\n",
       "      <td>NaN</td>\n",
       "      <td>Kiku Sharda, Vishal Kotian, Delnaaz Irani</td>\n",
       "      <td>India</td>\n",
       "      <td>2020-03-31</td>\n",
       "      <td>TV-G</td>\n",
       "      <td>1 Season</td>\n",
       "      <td>Kids' TV, TV Comedies, TV Dramas</td>\n",
       "      <td>From battles of wit to fights for justice, Emp...</td>\n",
       "    </tr>\n",
       "    <tr>\n",
       "      <th>533</th>\n",
       "      <td>s534</td>\n",
       "      <td>TV Show</td>\n",
       "      <td>Anjaan: Rural Myths</td>\n",
       "      <td>NaN</td>\n",
       "      <td>NaN</td>\n",
       "      <td>India</td>\n",
       "      <td>2018-12-15</td>\n",
       "      <td>TV-14</td>\n",
       "      <td>1 Season</td>\n",
       "      <td>International TV Shows, TV Horror, TV Thrillers</td>\n",
       "      <td>Spine-chilling stories of malevolent spirits u...</td>\n",
       "    </tr>\n",
       "    <tr>\n",
       "      <th>...</th>\n",
       "      <td>...</td>\n",
       "      <td>...</td>\n",
       "      <td>...</td>\n",
       "      <td>...</td>\n",
       "      <td>...</td>\n",
       "      <td>...</td>\n",
       "      <td>...</td>\n",
       "      <td>...</td>\n",
       "      <td>...</td>\n",
       "      <td>...</td>\n",
       "      <td>...</td>\n",
       "    </tr>\n",
       "    <tr>\n",
       "      <th>6249</th>\n",
       "      <td>s6249</td>\n",
       "      <td>TV Show</td>\n",
       "      <td>The Creative Indians</td>\n",
       "      <td>NaN</td>\n",
       "      <td>NaN</td>\n",
       "      <td>India</td>\n",
       "      <td>2020-08-24</td>\n",
       "      <td>TV-MA</td>\n",
       "      <td>2 Seasons</td>\n",
       "      <td>Docuseries, International TV Shows</td>\n",
       "      <td>From chefs and comedians to filmmakers and fas...</td>\n",
       "    </tr>\n",
       "    <tr>\n",
       "      <th>6400</th>\n",
       "      <td>s6399</td>\n",
       "      <td>TV Show</td>\n",
       "      <td>The Golden Years with Javed Akhtar</td>\n",
       "      <td>NaN</td>\n",
       "      <td>NaN</td>\n",
       "      <td>India</td>\n",
       "      <td>2017-06-01</td>\n",
       "      <td>TV-G</td>\n",
       "      <td>1 Season</td>\n",
       "      <td>Docuseries, International TV Shows</td>\n",
       "      <td>Writer, poet and lyricist Javed Akhtar hosts t...</td>\n",
       "    </tr>\n",
       "    <tr>\n",
       "      <th>6469</th>\n",
       "      <td>s6468</td>\n",
       "      <td>TV Show</td>\n",
       "      <td>The House That Made Me</td>\n",
       "      <td>NaN</td>\n",
       "      <td>Vinay Pathak</td>\n",
       "      <td>India</td>\n",
       "      <td>2017-03-31</td>\n",
       "      <td>TV-PG</td>\n",
       "      <td>3 Seasons</td>\n",
       "      <td>International TV Shows, Reality TV</td>\n",
       "      <td>With host Vinay Pathak, Indian celebrities ret...</td>\n",
       "    </tr>\n",
       "    <tr>\n",
       "      <th>7294</th>\n",
       "      <td>s7293</td>\n",
       "      <td>TV Show</td>\n",
       "      <td>Typewriter</td>\n",
       "      <td>NaN</td>\n",
       "      <td>Aarna Sharma, Aaryansh Malviya, Mikail Gandhi,...</td>\n",
       "      <td>India</td>\n",
       "      <td>2019-07-19</td>\n",
       "      <td>TV-MA</td>\n",
       "      <td>1 Season</td>\n",
       "      <td>International TV Shows, TV Horror, TV Mysteries</td>\n",
       "      <td>Three young friends in Goa plan to search an o...</td>\n",
       "    </tr>\n",
       "    <tr>\n",
       "      <th>7705</th>\n",
       "      <td>s7704</td>\n",
       "      <td>TV Show</td>\n",
       "      <td>Yeh Meri Family</td>\n",
       "      <td>NaN</td>\n",
       "      <td>Vishesh Bansal, Mona Singh, Akarsh Khurana, Ah...</td>\n",
       "      <td>India</td>\n",
       "      <td>2018-08-31</td>\n",
       "      <td>TV-PG</td>\n",
       "      <td>1 Season</td>\n",
       "      <td>International TV Shows, TV Comedies</td>\n",
       "      <td>In the summer of 1998, middle child Harshu bal...</td>\n",
       "    </tr>\n",
       "  </tbody>\n",
       "</table>\n",
       "<p>71 rows × 11 columns</p>\n",
       "</div>"
      ],
      "text/plain": [
       "     Show_Id Category                               Title     Director  \\\n",
       "86       s87  TV Show        21 Sarfarosh: Saragarhi 1897          NaN   \n",
       "132     s133  TV Show                           7 (Seven)  Nizar Shafi   \n",
       "340     s341  TV Show                        Agent Raghav          NaN   \n",
       "364     s365  TV Show                        Akbar Birbal          NaN   \n",
       "533     s534  TV Show                 Anjaan: Rural Myths          NaN   \n",
       "...      ...      ...                                 ...          ...   \n",
       "6249   s6249  TV Show                The Creative Indians          NaN   \n",
       "6400   s6399  TV Show  The Golden Years with Javed Akhtar          NaN   \n",
       "6469   s6468  TV Show              The House That Made Me          NaN   \n",
       "7294   s7293  TV Show                          Typewriter          NaN   \n",
       "7705   s7704  TV Show                     Yeh Meri Family          NaN   \n",
       "\n",
       "                                                   Cast Country Release_Date  \\\n",
       "86                   Luke Kenny, Mohit Raina, Mukul Dev   India   2018-12-01   \n",
       "132   Rahman, Havish, Regina Cassandra, Nandita Swet...   India   2019-07-30   \n",
       "340   Sharad Kelkar, Aahana Kumra, Mahesh Manjrekar,...   India   2017-04-15   \n",
       "364           Kiku Sharda, Vishal Kotian, Delnaaz Irani   India   2020-03-31   \n",
       "533                                                 NaN   India   2018-12-15   \n",
       "...                                                 ...     ...          ...   \n",
       "6249                                                NaN   India   2020-08-24   \n",
       "6400                                                NaN   India   2017-06-01   \n",
       "6469                                       Vinay Pathak   India   2017-03-31   \n",
       "7294  Aarna Sharma, Aaryansh Malviya, Mikail Gandhi,...   India   2019-07-19   \n",
       "7705  Vishesh Bansal, Mona Singh, Akarsh Khurana, Ah...   India   2018-08-31   \n",
       "\n",
       "     Rating   Duration                                               Type  \\\n",
       "86    TV-14   1 Season                  International TV Shows, TV Dramas   \n",
       "132   TV-14   1 Season                                           TV Shows   \n",
       "340   TV-14   1 Season  Crime TV Shows, International TV Shows, TV Act...   \n",
       "364    TV-G   1 Season                   Kids' TV, TV Comedies, TV Dramas   \n",
       "533   TV-14   1 Season    International TV Shows, TV Horror, TV Thrillers   \n",
       "...     ...        ...                                                ...   \n",
       "6249  TV-MA  2 Seasons                 Docuseries, International TV Shows   \n",
       "6400   TV-G   1 Season                 Docuseries, International TV Shows   \n",
       "6469  TV-PG  3 Seasons                 International TV Shows, Reality TV   \n",
       "7294  TV-MA   1 Season    International TV Shows, TV Horror, TV Mysteries   \n",
       "7705  TV-PG   1 Season                International TV Shows, TV Comedies   \n",
       "\n",
       "                                            Description  \n",
       "86    In one of history's greatest last stands, a ba...  \n",
       "132   Multiple women report their husbands as missin...  \n",
       "340   A mix of brilliance, erudition and skill enabl...  \n",
       "364   From battles of wit to fights for justice, Emp...  \n",
       "533   Spine-chilling stories of malevolent spirits u...  \n",
       "...                                                 ...  \n",
       "6249  From chefs and comedians to filmmakers and fas...  \n",
       "6400  Writer, poet and lyricist Javed Akhtar hosts t...  \n",
       "6469  With host Vinay Pathak, Indian celebrities ret...  \n",
       "7294  Three young friends in Goa plan to search an o...  \n",
       "7705  In the summer of 1998, middle child Harshu bal...  \n",
       "\n",
       "[71 rows x 11 columns]"
      ]
     },
     "execution_count": 23,
     "metadata": {},
     "output_type": "execute_result"
    }
   ],
   "source": [
    "ntfx_df[(ntfx_df[\"Category\"] == \"TV Show\") & (ntfx_df[\"Country\"] == \"India\")]"
   ]
  },
  {
   "cell_type": "code",
   "execution_count": 24,
   "id": "45ebc8bf",
   "metadata": {
    "scrolled": true
   },
   "outputs": [],
   "source": [
    "directors = pd.DataFrame(columns = [\"Director Name\", \"Production Count\"])\n",
    "directors[\"Director Name\"] = ntfx_df[\"Director\"].value_counts().index\n",
    "directors[\"Production Count\"] = list(ntfx_df[\"Director\"].value_counts())"
   ]
  },
  {
   "cell_type": "code",
   "execution_count": 25,
   "id": "1dd847d4",
   "metadata": {},
   "outputs": [
    {
     "data": {
      "text/html": [
       "<div>\n",
       "<style scoped>\n",
       "    .dataframe tbody tr th:only-of-type {\n",
       "        vertical-align: middle;\n",
       "    }\n",
       "\n",
       "    .dataframe tbody tr th {\n",
       "        vertical-align: top;\n",
       "    }\n",
       "\n",
       "    .dataframe thead th {\n",
       "        text-align: right;\n",
       "    }\n",
       "</style>\n",
       "<table border=\"1\" class=\"dataframe\">\n",
       "  <thead>\n",
       "    <tr style=\"text-align: right;\">\n",
       "      <th></th>\n",
       "      <th>Director Name</th>\n",
       "      <th>Production Count</th>\n",
       "    </tr>\n",
       "  </thead>\n",
       "  <tbody>\n",
       "    <tr>\n",
       "      <th>0</th>\n",
       "      <td>Raúl Campos, Jan Suter</td>\n",
       "      <td>18</td>\n",
       "    </tr>\n",
       "    <tr>\n",
       "      <th>1</th>\n",
       "      <td>Marcus Raboy</td>\n",
       "      <td>16</td>\n",
       "    </tr>\n",
       "    <tr>\n",
       "      <th>2</th>\n",
       "      <td>Jay Karas</td>\n",
       "      <td>14</td>\n",
       "    </tr>\n",
       "    <tr>\n",
       "      <th>3</th>\n",
       "      <td>Cathy Garcia-Molina</td>\n",
       "      <td>13</td>\n",
       "    </tr>\n",
       "    <tr>\n",
       "      <th>4</th>\n",
       "      <td>Youssef Chahine</td>\n",
       "      <td>12</td>\n",
       "    </tr>\n",
       "    <tr>\n",
       "      <th>5</th>\n",
       "      <td>Martin Scorsese</td>\n",
       "      <td>12</td>\n",
       "    </tr>\n",
       "    <tr>\n",
       "      <th>6</th>\n",
       "      <td>Jay Chapman</td>\n",
       "      <td>12</td>\n",
       "    </tr>\n",
       "    <tr>\n",
       "      <th>7</th>\n",
       "      <td>Steven Spielberg</td>\n",
       "      <td>10</td>\n",
       "    </tr>\n",
       "    <tr>\n",
       "      <th>8</th>\n",
       "      <td>David Dhawan</td>\n",
       "      <td>9</td>\n",
       "    </tr>\n",
       "    <tr>\n",
       "      <th>9</th>\n",
       "      <td>Robert Rodriguez</td>\n",
       "      <td>8</td>\n",
       "    </tr>\n",
       "  </tbody>\n",
       "</table>\n",
       "</div>"
      ],
      "text/plain": [
       "            Director Name  Production Count\n",
       "0  Raúl Campos, Jan Suter                18\n",
       "1            Marcus Raboy                16\n",
       "2               Jay Karas                14\n",
       "3     Cathy Garcia-Molina                13\n",
       "4         Youssef Chahine                12\n",
       "5         Martin Scorsese                12\n",
       "6             Jay Chapman                12\n",
       "7        Steven Spielberg                10\n",
       "8            David Dhawan                 9\n",
       "9        Robert Rodriguez                 8"
      ]
     },
     "execution_count": 25,
     "metadata": {},
     "output_type": "execute_result"
    }
   ],
   "source": [
    "directors.head(10)"
   ]
  },
  {
   "cell_type": "markdown",
   "id": "f0cfbb64",
   "metadata": {},
   "source": [
    "**Seventh Task:** Show all the Records, where \"Category is Movie and Type is Comedies\" or \"Country is United Kingdom\"."
   ]
  },
  {
   "cell_type": "code",
   "execution_count": 26,
   "id": "ac134b53",
   "metadata": {
    "scrolled": true
   },
   "outputs": [
    {
     "data": {
      "text/plain": [
       "Documentaries                                                 334\n",
       "Stand-Up Comedy                                               321\n",
       "Dramas, International Movies                                  320\n",
       "Comedies, Dramas, International Movies                        243\n",
       "Dramas, Independent Movies, International Movies              215\n",
       "                                                             ... \n",
       "Romantic TV Shows, TV Action & Adventure, TV Dramas             1\n",
       "TV Action & Adventure, TV Dramas, Teen TV Shows                 1\n",
       "Action & Adventure, Cult Movies                                 1\n",
       "Action & Adventure, Faith & Spirituality, Sci-Fi & Fantasy      1\n",
       "Horror Movies, International Movies, Sci-Fi & Fantasy           1\n",
       "Name: Type, Length: 492, dtype: int64"
      ]
     },
     "execution_count": 26,
     "metadata": {},
     "output_type": "execute_result"
    }
   ],
   "source": [
    "ntfx_df[\"Type\"].value_counts()"
   ]
  },
  {
   "cell_type": "code",
   "execution_count": 27,
   "id": "5f2a7fa3",
   "metadata": {},
   "outputs": [],
   "source": [
    "filter_mcuk = ntfx_df[(ntfx_df[\"Category\"] == \"Movie\") & (ntfx_df[\"Country\"] == \"United Kingdom\")]"
   ]
  },
  {
   "cell_type": "code",
   "execution_count": 28,
   "id": "5599c9c0",
   "metadata": {},
   "outputs": [],
   "source": [
    "filter_mcuk = filter_mcuk[filter_mcuk[\"Type\"].str.contains(\"Comedy|Comedies\")]"
   ]
  },
  {
   "cell_type": "markdown",
   "id": "3c8699d1",
   "metadata": {},
   "source": [
    "**Eight Task:** In how many movies/shows, Tom Cruise was cast ?"
   ]
  },
  {
   "cell_type": "code",
   "execution_count": 29,
   "id": "fe67fc25",
   "metadata": {},
   "outputs": [
    {
     "data": {
      "text/html": [
       "<div>\n",
       "<style scoped>\n",
       "    .dataframe tbody tr th:only-of-type {\n",
       "        vertical-align: middle;\n",
       "    }\n",
       "\n",
       "    .dataframe tbody tr th {\n",
       "        vertical-align: top;\n",
       "    }\n",
       "\n",
       "    .dataframe thead th {\n",
       "        text-align: right;\n",
       "    }\n",
       "</style>\n",
       "<table border=\"1\" class=\"dataframe\">\n",
       "  <thead>\n",
       "    <tr style=\"text-align: right;\">\n",
       "      <th></th>\n",
       "      <th>Show_Id</th>\n",
       "      <th>Category</th>\n",
       "      <th>Title</th>\n",
       "      <th>Director</th>\n",
       "      <th>Cast</th>\n",
       "      <th>Country</th>\n",
       "      <th>Release_Date</th>\n",
       "      <th>Rating</th>\n",
       "      <th>Duration</th>\n",
       "      <th>Type</th>\n",
       "      <th>Description</th>\n",
       "    </tr>\n",
       "  </thead>\n",
       "  <tbody>\n",
       "    <tr>\n",
       "      <th>3860</th>\n",
       "      <td>s3861</td>\n",
       "      <td>Movie</td>\n",
       "      <td>Magnolia</td>\n",
       "      <td>Paul Thomas Anderson</td>\n",
       "      <td>Jeremy Blackman, Tom Cruise, Melinda Dillon, A...</td>\n",
       "      <td>United States</td>\n",
       "      <td>2020-01-01</td>\n",
       "      <td>R</td>\n",
       "      <td>189 min</td>\n",
       "      <td>Dramas, Independent Movies</td>\n",
       "      <td>Through chance, human action, past history and...</td>\n",
       "    </tr>\n",
       "    <tr>\n",
       "      <th>5071</th>\n",
       "      <td>s5071</td>\n",
       "      <td>Movie</td>\n",
       "      <td>Rain Man</td>\n",
       "      <td>Barry Levinson</td>\n",
       "      <td>Dustin Hoffman, Tom Cruise, Valeria Golino, Ge...</td>\n",
       "      <td>United States</td>\n",
       "      <td>2019-07-01</td>\n",
       "      <td>R</td>\n",
       "      <td>134 min</td>\n",
       "      <td>Classic Movies, Dramas</td>\n",
       "      <td>A fast-talking yuppie is forced to slow down w...</td>\n",
       "    </tr>\n",
       "  </tbody>\n",
       "</table>\n",
       "</div>"
      ],
      "text/plain": [
       "     Show_Id Category     Title              Director  \\\n",
       "3860   s3861    Movie  Magnolia  Paul Thomas Anderson   \n",
       "5071   s5071    Movie  Rain Man        Barry Levinson   \n",
       "\n",
       "                                                   Cast        Country  \\\n",
       "3860  Jeremy Blackman, Tom Cruise, Melinda Dillon, A...  United States   \n",
       "5071  Dustin Hoffman, Tom Cruise, Valeria Golino, Ge...  United States   \n",
       "\n",
       "     Release_Date Rating Duration                        Type  \\\n",
       "3860   2020-01-01      R  189 min  Dramas, Independent Movies   \n",
       "5071   2019-07-01      R  134 min      Classic Movies, Dramas   \n",
       "\n",
       "                                            Description  \n",
       "3860  Through chance, human action, past history and...  \n",
       "5071  A fast-talking yuppie is forced to slow down w...  "
      ]
     },
     "execution_count": 29,
     "metadata": {},
     "output_type": "execute_result"
    }
   ],
   "source": [
    "ntfx_df[ntfx_df[\"Cast\"].str.contains(\"Tom Cruise\", na = False)]"
   ]
  },
  {
   "cell_type": "markdown",
   "id": "6a22419d",
   "metadata": {},
   "source": [
    "**Ninth Task:** What are the different Ratings defined by Netflix ?"
   ]
  },
  {
   "cell_type": "code",
   "execution_count": 30,
   "id": "61af05e2",
   "metadata": {},
   "outputs": [
    {
     "data": {
      "text/plain": [
       "array(['TV-MA', 'R', 'PG-13', 'TV-14', 'TV-PG', 'NR', 'TV-G', 'TV-Y', nan,\n",
       "       'TV-Y7', 'PG', 'G', 'NC-17', 'TV-Y7-FV', 'UR'], dtype=object)"
      ]
     },
     "execution_count": 30,
     "metadata": {},
     "output_type": "execute_result"
    }
   ],
   "source": [
    "ntfx_df[\"Rating\"].unique()"
   ]
  },
  {
   "cell_type": "markdown",
   "id": "4b371e25",
   "metadata": {},
   "source": [
    "**9.1.** How many Movies got the 'TV-14' rating, in Canada ?"
   ]
  },
  {
   "cell_type": "code",
   "execution_count": 32,
   "id": "be2a1a6a",
   "metadata": {},
   "outputs": [
    {
     "data": {
      "text/plain": [
       "23"
      ]
     },
     "execution_count": 32,
     "metadata": {},
     "output_type": "execute_result"
    }
   ],
   "source": [
    "len(ntfx_df[(ntfx_df[\"Rating\"] == \"TV-14\") & (ntfx_df[\"Country\"] == \"Canada\")].index)"
   ]
  },
  {
   "cell_type": "markdown",
   "id": "14f15d7a",
   "metadata": {},
   "source": [
    "**9.2.** How many TV Shows got the 'R' rating, after year 2018 ?"
   ]
  },
  {
   "cell_type": "code",
   "execution_count": 34,
   "id": "9220bc2c",
   "metadata": {},
   "outputs": [
    {
     "data": {
      "text/plain": [
       "450"
      ]
     },
     "execution_count": 34,
     "metadata": {},
     "output_type": "execute_result"
    }
   ],
   "source": [
    "len(ntfx_df[(ntfx_df[\"Rating\"] == \"R\") & (pd.DatetimeIndex(ntfx_df[\"Release_Date\"]).year > 2018)].index)"
   ]
  },
  {
   "cell_type": "markdown",
   "id": "d80e7552",
   "metadata": {},
   "source": [
    "**Tenth Task:** What is the maximum duration of a Movie/Show on Netflix ?"
   ]
  },
  {
   "cell_type": "code",
   "execution_count": 49,
   "id": "d4ac3b78",
   "metadata": {},
   "outputs": [],
   "source": [
    "movies = ntfx_df[ntfx_df[\"Category\"] == \"Movie\"]"
   ]
  },
  {
   "cell_type": "code",
   "execution_count": 50,
   "id": "e9b1cf46",
   "metadata": {},
   "outputs": [],
   "source": [
    "shows = ntfx_df[ntfx_df[\"Category\"] == \"TV Show\"]"
   ]
  },
  {
   "cell_type": "code",
   "execution_count": 58,
   "id": "702b7367",
   "metadata": {
    "scrolled": true
   },
   "outputs": [
    {
     "name": "stdout",
     "output_type": "stream",
     "text": [
      "Longest Movie is 312 minutes\n"
     ]
    }
   ],
   "source": [
    "print(\"Longest Movie is {} minutes\".format(pd.to_numeric(movies[\"Duration\"].str.strip(\" min\")).max()))"
   ]
  },
  {
   "cell_type": "code",
   "execution_count": 60,
   "id": "1ff61307",
   "metadata": {},
   "outputs": [
    {
     "name": "stdout",
     "output_type": "stream",
     "text": [
      "Longest Show is 16 Seasons\n"
     ]
    }
   ],
   "source": [
    "print(\"Longest Show is {} Seasons\".format(pd.to_numeric(shows[\"Duration\"].str.strip(\" Seasons\")).max()))"
   ]
  },
  {
   "cell_type": "markdown",
   "id": "b92454dd",
   "metadata": {},
   "source": [
    "**Eleventh Task:** Which individual country has the Highest No. of TV Shows ?"
   ]
  },
  {
   "cell_type": "code",
   "execution_count": 64,
   "id": "93fb4d1f",
   "metadata": {},
   "outputs": [
    {
     "name": "stdout",
     "output_type": "stream",
     "text": [
      "United States has the highest No. of TV Shows\n"
     ]
    }
   ],
   "source": [
    "print(\"{} has the highest No. of TV Shows\".format(shows[\"Country\"].value_counts().index[0]))"
   ]
  },
  {
   "cell_type": "markdown",
   "id": "7c107cc1",
   "metadata": {},
   "source": [
    "**Twelfth Task:** How can we sort the dataset by Year ?"
   ]
  },
  {
   "cell_type": "code",
   "execution_count": 69,
   "id": "6b813245",
   "metadata": {},
   "outputs": [],
   "source": [
    "srt_idx = list(pd.DatetimeIndex(ntfx_df[\"Release_Date\"]).year.argsort(axis = 0))"
   ]
  },
  {
   "cell_type": "code",
   "execution_count": 80,
   "id": "6685fbd5",
   "metadata": {},
   "outputs": [],
   "source": [
    "sorted_df = ntfx_df.reindex(srt_idx)"
   ]
  },
  {
   "cell_type": "markdown",
   "id": "5be411a6",
   "metadata": {},
   "source": [
    "**Thirteenth Task:** Find all the instances where: Category is 'Movie' and Type is 'Dramas' or Category is 'TV Show' & Type is 'Kids' TV'."
   ]
  },
  {
   "cell_type": "code",
   "execution_count": 83,
   "id": "a8e54fac",
   "metadata": {},
   "outputs": [],
   "source": [
    "filter_mdtk = ntfx_df[((ntfx_df[\"Category\"] == \"Movie\") & (ntfx_df[\"Type\"].str.contains(\"Drama|Dramas\"))) |  \n",
    "                      ((ntfx_df[\"Category\"] == \"TV Show\") & (ntfx_df[\"Type\"].str.contains(\"Kids\")))]"
   ]
  }
 ],
 "metadata": {
  "kernelspec": {
   "display_name": "Python 3",
   "language": "python",
   "name": "python3"
  },
  "language_info": {
   "codemirror_mode": {
    "name": "ipython",
    "version": 3
   },
   "file_extension": ".py",
   "mimetype": "text/x-python",
   "name": "python",
   "nbconvert_exporter": "python",
   "pygments_lexer": "ipython3",
   "version": "3.8.8"
  }
 },
 "nbformat": 4,
 "nbformat_minor": 5
}
